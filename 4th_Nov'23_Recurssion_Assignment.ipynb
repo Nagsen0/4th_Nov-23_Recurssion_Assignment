{
  "nbformat": 4,
  "nbformat_minor": 0,
  "metadata": {
    "colab": {
      "provenance": []
    },
    "kernelspec": {
      "name": "python3",
      "display_name": "Python 3"
    },
    "language_info": {
      "name": "python"
    }
  },
  "cells": [
    {
      "cell_type": "markdown",
      "source": [
        "1. Can you explain the logic and working of the Tower of Honoi algorithm by writing a Python program? How does the recursion work, and how are the movements of disks between rods accomplished?"
      ],
      "metadata": {
        "id": "pslzVkVlKUW3"
      }
    },
    {
      "cell_type": "code",
      "execution_count": null,
      "metadata": {
        "colab": {
          "base_uri": "https://localhost:8080/"
        },
        "id": "Iy6zH2ChJ6K0",
        "outputId": "afb2ef8d-01a0-4d08-8a65-68b9252bac07"
      },
      "outputs": [
        {
          "output_type": "execute_result",
          "data": {
            "text/plain": [
              "7"
            ]
          },
          "metadata": {},
          "execution_count": 6
        }
      ],
      "source": [
        "def tower_of_Hanoi_moves(n,A, B, C):\n",
        "  # n= no. of disk\n",
        "  # base case condition\n",
        "  if n==1:\n",
        "    return 1\n",
        "\n",
        "  # recursive function call\n",
        "  # move first n-1 disk from A -> B using C and then move biggest disk to C and then move n-1 disk from B->C using A\n",
        "\n",
        "  return tower_of_Hanoi_moves(n-1, A, B, C) + 1 + tower_of_Hanoi_moves(n-1, B, C, A)\n",
        "\n",
        "\n",
        "tower_of_Hanoi_moves(3, 'A', 'B', 'C')"
      ]
    },
    {
      "cell_type": "markdown",
      "source": [
        "2. Given two strings word1 and word2, return the minimum number of operations required to convert word1 to word2."
      ],
      "metadata": {
        "id": "x9-UTibvZW8Z"
      }
    },
    {
      "cell_type": "code",
      "source": [
        "def minDistance_recursive(word1, word2, memo={}):\n",
        "  m=len(word1)\n",
        "  n=len(word2)\n",
        "\n",
        "  if (m, n) in memo: # check memoization\n",
        "    return memo[(m, n)]\n",
        "\n",
        "  if m == 0:\n",
        "    return n   # Base case: empty word1\n",
        "\n",
        "  if n==0:\n",
        "    return m   # Base case: empty word2\n",
        "\n",
        "  if word1[m - 1] == word2[n - 1]:\n",
        "    result = minDistance_recursive(word1[:m-1], word2[:n-1], memo)  # No operation needed\n",
        "\n",
        "  else:\n",
        "    result = 1 + min(minDistance_recursive(word1[:m-1], word2, memo), # Insert\n",
        "            minDistance_recursive(word1, word2[:n-1], memo),          # Delete\n",
        "            minDistance_recursive(word1[:m-1], word2[:n-1], memo) )   # Replace\n",
        "\n",
        "  memo[(m, n)] = result    # Store result in memo\n",
        "  return result\n",
        "\n",
        "word1 = \"horse\"\n",
        "word2 = \"ros\"\n",
        "result = minDistance_recursive(word1, word2)\n",
        "print(result)"
      ],
      "metadata": {
        "colab": {
          "base_uri": "https://localhost:8080/"
        },
        "id": "FK-6JrM7RjbO",
        "outputId": "1246e2fb-7913-42ef-ceac-c3ddbd7b3e59"
      },
      "execution_count": 60,
      "outputs": [
        {
          "output_type": "stream",
          "name": "stdout",
          "text": [
            "3\n"
          ]
        }
      ]
    },
    {
      "cell_type": "markdown",
      "source": [
        "3. print the max value of the array [13,1,-3, 22, 5]."
      ],
      "metadata": {
        "id": "RpQQ3b2IaX5H"
      }
    },
    {
      "cell_type": "code",
      "source": [
        "def print_max_value(arr, sI):\n",
        "\n",
        "  # base case condition\n",
        "  if sI >= len(arr):\n",
        "    return float('-inf')\n",
        "\n",
        "  # recursive function call\n",
        "  return max(arr[sI],print_max_value(arr, sI+1))\n",
        "\n",
        "\n",
        "arr=[13,1,-3,22,5]\n",
        "print_max_value(arr, 0)"
      ],
      "metadata": {
        "colab": {
          "base_uri": "https://localhost:8080/"
        },
        "id": "ytCih5EHcPCa",
        "outputId": "64fac336-b0c8-4803-a866-c8d715ed7d60"
      },
      "execution_count": null,
      "outputs": [
        {
          "output_type": "execute_result",
          "data": {
            "text/plain": [
              "22"
            ]
          },
          "metadata": {},
          "execution_count": 9
        }
      ]
    },
    {
      "cell_type": "markdown",
      "source": [
        "4. Find the sum of the values of the array [92,23,15,-20,10]."
      ],
      "metadata": {
        "id": "sSlRD2-EdqvP"
      }
    },
    {
      "cell_type": "code",
      "source": [
        "def find_sum_of_values(arr, sI):\n",
        "  # base case condition\n",
        "  if sI >= len(arr):\n",
        "    return 0\n",
        "\n",
        "\n",
        "\n",
        "  # recursive function call\n",
        "\n",
        "  return arr[sI] + find_sum_of_values(arr, sI+1)\n",
        "\n",
        "arr=[92,23,15,-20,10]\n",
        "find_sum_of_values(arr, 0)"
      ],
      "metadata": {
        "colab": {
          "base_uri": "https://localhost:8080/"
        },
        "id": "RI5Gv6lidcx-",
        "outputId": "89539e7a-062f-4324-e3b0-0f31d682d451"
      },
      "execution_count": null,
      "outputs": [
        {
          "output_type": "execute_result",
          "data": {
            "text/plain": [
              "120"
            ]
          },
          "metadata": {},
          "execution_count": 11
        }
      ]
    },
    {
      "cell_type": "markdown",
      "source": [
        "5. Given a number n. Print if it is an armstrong number or not. An armstrong number is a number if the sum of every digit in that number raised to the power of total digits in that number is equal to the number.\n",
        "Ex. 153=1^3+5^3+3^3=1+125+27=153"
      ],
      "metadata": {
        "id": "5Udtfh1tgrV0"
      }
    },
    {
      "cell_type": "code",
      "source": [
        "def count_digits(n):\n",
        "  if n < 0:\n",
        "    return float('inf')\n",
        "\n",
        "  elif n==0:\n",
        "    return 0\n",
        "\n",
        "  return 1 + count_digits(n//10)\n",
        "\n",
        "def is_armstrong_recursive(n, num_digits):\n",
        "  if n < 0:\n",
        "    return float('inf')\n",
        "\n",
        "  elif n==0:\n",
        "    return 0\n",
        "  num = n%10\n",
        "  return num ** num_digits + is_armstrong_recursive(n//10, num_digits)\n",
        "\n",
        "def is_armstrong_check(n):\n",
        "\n",
        "  num_digits = count_digits(n)\n",
        "  recursive_sum = is_armstrong_recursive(n, num_digits)\n",
        "\n",
        "  return recursive_sum == n\n",
        "\n",
        "n=153\n",
        "\n",
        "if is_armstrong_check(n):\n",
        "  print(f\"{n} is a armstrong number\")\n",
        "\n",
        "else:\n",
        "  print(f\"{n} is not a armstrong number\")"
      ],
      "metadata": {
        "colab": {
          "base_uri": "https://localhost:8080/"
        },
        "id": "-6dIObAr5SAz",
        "outputId": "3102fa26-eea0-4fbc-839c-97682b3df00f"
      },
      "execution_count": 49,
      "outputs": [
        {
          "output_type": "stream",
          "name": "stdout",
          "text": [
            "153 is a armstrong number\n"
          ]
        }
      ]
    },
    {
      "cell_type": "code",
      "source": [],
      "metadata": {
        "id": "6KhtG9fjE4bb"
      },
      "execution_count": null,
      "outputs": []
    }
  ]
}